{
  "cells": [
    {
      "cell_type": "code",
      "execution_count": 1,
      "metadata": {},
      "outputs": [],
      "source": [
        "import pandas as pd\n",
        "import numpy as np\n",
        "import matplotlib.pyplot as plt\n",
        "import seaborn as sns\n",
        "from scipy import stats"
      ]
    },
    {
      "cell_type": "code",
      "execution_count": 2,
      "metadata": {},
      "outputs": [
        {
          "name": "stderr",
          "output_type": "stream",
          "text": [
            "C:\\Users\\hp\\AppData\\Local\\Temp\\ipykernel_11936\\4130903413.py:1: DtypeWarning: Columns (33,38) have mixed types. Specify dtype option on import or set low_memory=False.\n",
            "  df = pd.read_csv('data/clean/MachineLearningRating_v3_cleaned.csv')\n"
          ]
        },
        {
          "data": {
            "text/html": [
              "<div>\n",
              "<style scoped>\n",
              "    .dataframe tbody tr th:only-of-type {\n",
              "        vertical-align: middle;\n",
              "    }\n",
              "\n",
              "    .dataframe tbody tr th {\n",
              "        vertical-align: top;\n",
              "    }\n",
              "\n",
              "    .dataframe thead th {\n",
              "        text-align: right;\n",
              "    }\n",
              "</style>\n",
              "<table border=\"1\" class=\"dataframe\">\n",
              "  <thead>\n",
              "    <tr style=\"text-align: right;\">\n",
              "      <th></th>\n",
              "      <th>Unnamed: 0</th>\n",
              "      <th>UnderwrittenCoverID</th>\n",
              "      <th>PolicyID</th>\n",
              "      <th>TransactionMonth</th>\n",
              "      <th>IsVATRegistered</th>\n",
              "      <th>Citizenship</th>\n",
              "      <th>LegalType</th>\n",
              "      <th>Title</th>\n",
              "      <th>Language</th>\n",
              "      <th>Bank</th>\n",
              "      <th>...</th>\n",
              "      <th>CoverGroup</th>\n",
              "      <th>Section</th>\n",
              "      <th>Product</th>\n",
              "      <th>StatutoryClass</th>\n",
              "      <th>StatutoryRiskType</th>\n",
              "      <th>TotalPremium</th>\n",
              "      <th>TotalClaims</th>\n",
              "      <th>LossRatio</th>\n",
              "      <th>Month</th>\n",
              "      <th>VehicleMakeModel</th>\n",
              "    </tr>\n",
              "  </thead>\n",
              "  <tbody>\n",
              "    <tr>\n",
              "      <th>0</th>\n",
              "      <td>0</td>\n",
              "      <td>145249</td>\n",
              "      <td>12827</td>\n",
              "      <td>2015-03-01</td>\n",
              "      <td>True</td>\n",
              "      <td></td>\n",
              "      <td>Close Corporation</td>\n",
              "      <td>Mr</td>\n",
              "      <td>English</td>\n",
              "      <td>First National Bank</td>\n",
              "      <td>...</td>\n",
              "      <td>Comprehensive - Taxi</td>\n",
              "      <td>Motor Comprehensive</td>\n",
              "      <td>Mobility Metered Taxis: Monthly</td>\n",
              "      <td>Commercial</td>\n",
              "      <td>IFRS Constant</td>\n",
              "      <td>21.929825</td>\n",
              "      <td>0.0</td>\n",
              "      <td>0.0</td>\n",
              "      <td>2015-03</td>\n",
              "      <td>MERCEDES-BENZ - E 240</td>\n",
              "    </tr>\n",
              "    <tr>\n",
              "      <th>1</th>\n",
              "      <td>1</td>\n",
              "      <td>145249</td>\n",
              "      <td>12827</td>\n",
              "      <td>2015-05-01</td>\n",
              "      <td>True</td>\n",
              "      <td></td>\n",
              "      <td>Close Corporation</td>\n",
              "      <td>Mr</td>\n",
              "      <td>English</td>\n",
              "      <td>First National Bank</td>\n",
              "      <td>...</td>\n",
              "      <td>Comprehensive - Taxi</td>\n",
              "      <td>Motor Comprehensive</td>\n",
              "      <td>Mobility Metered Taxis: Monthly</td>\n",
              "      <td>Commercial</td>\n",
              "      <td>IFRS Constant</td>\n",
              "      <td>21.929825</td>\n",
              "      <td>0.0</td>\n",
              "      <td>0.0</td>\n",
              "      <td>2015-05</td>\n",
              "      <td>MERCEDES-BENZ - E 240</td>\n",
              "    </tr>\n",
              "    <tr>\n",
              "      <th>2</th>\n",
              "      <td>2</td>\n",
              "      <td>145249</td>\n",
              "      <td>12827</td>\n",
              "      <td>2015-07-01</td>\n",
              "      <td>True</td>\n",
              "      <td></td>\n",
              "      <td>Close Corporation</td>\n",
              "      <td>Mr</td>\n",
              "      <td>English</td>\n",
              "      <td>First National Bank</td>\n",
              "      <td>...</td>\n",
              "      <td>Comprehensive - Taxi</td>\n",
              "      <td>Motor Comprehensive</td>\n",
              "      <td>Mobility Metered Taxis: Monthly</td>\n",
              "      <td>Commercial</td>\n",
              "      <td>IFRS Constant</td>\n",
              "      <td>0.000000</td>\n",
              "      <td>0.0</td>\n",
              "      <td>NaN</td>\n",
              "      <td>2015-07</td>\n",
              "      <td>MERCEDES-BENZ - E 240</td>\n",
              "    </tr>\n",
              "    <tr>\n",
              "      <th>3</th>\n",
              "      <td>3</td>\n",
              "      <td>145255</td>\n",
              "      <td>12827</td>\n",
              "      <td>2015-05-01</td>\n",
              "      <td>True</td>\n",
              "      <td></td>\n",
              "      <td>Close Corporation</td>\n",
              "      <td>Mr</td>\n",
              "      <td>English</td>\n",
              "      <td>First National Bank</td>\n",
              "      <td>...</td>\n",
              "      <td>Comprehensive - Taxi</td>\n",
              "      <td>Motor Comprehensive</td>\n",
              "      <td>Mobility Metered Taxis: Monthly</td>\n",
              "      <td>Commercial</td>\n",
              "      <td>IFRS Constant</td>\n",
              "      <td>512.848070</td>\n",
              "      <td>0.0</td>\n",
              "      <td>0.0</td>\n",
              "      <td>2015-05</td>\n",
              "      <td>MERCEDES-BENZ - E 240</td>\n",
              "    </tr>\n",
              "    <tr>\n",
              "      <th>4</th>\n",
              "      <td>4</td>\n",
              "      <td>145255</td>\n",
              "      <td>12827</td>\n",
              "      <td>2015-07-01</td>\n",
              "      <td>True</td>\n",
              "      <td></td>\n",
              "      <td>Close Corporation</td>\n",
              "      <td>Mr</td>\n",
              "      <td>English</td>\n",
              "      <td>First National Bank</td>\n",
              "      <td>...</td>\n",
              "      <td>Comprehensive - Taxi</td>\n",
              "      <td>Motor Comprehensive</td>\n",
              "      <td>Mobility Metered Taxis: Monthly</td>\n",
              "      <td>Commercial</td>\n",
              "      <td>IFRS Constant</td>\n",
              "      <td>0.000000</td>\n",
              "      <td>0.0</td>\n",
              "      <td>NaN</td>\n",
              "      <td>2015-07</td>\n",
              "      <td>MERCEDES-BENZ - E 240</td>\n",
              "    </tr>\n",
              "  </tbody>\n",
              "</table>\n",
              "<p>5 rows × 56 columns</p>\n",
              "</div>"
            ],
            "text/plain": [
              "   Unnamed: 0  UnderwrittenCoverID  PolicyID TransactionMonth  \\\n",
              "0           0               145249     12827       2015-03-01   \n",
              "1           1               145249     12827       2015-05-01   \n",
              "2           2               145249     12827       2015-07-01   \n",
              "3           3               145255     12827       2015-05-01   \n",
              "4           4               145255     12827       2015-07-01   \n",
              "\n",
              "   IsVATRegistered Citizenship          LegalType Title Language  \\\n",
              "0             True              Close Corporation    Mr  English   \n",
              "1             True              Close Corporation    Mr  English   \n",
              "2             True              Close Corporation    Mr  English   \n",
              "3             True              Close Corporation    Mr  English   \n",
              "4             True              Close Corporation    Mr  English   \n",
              "\n",
              "                  Bank  ...            CoverGroup              Section  \\\n",
              "0  First National Bank  ...  Comprehensive - Taxi  Motor Comprehensive   \n",
              "1  First National Bank  ...  Comprehensive - Taxi  Motor Comprehensive   \n",
              "2  First National Bank  ...  Comprehensive - Taxi  Motor Comprehensive   \n",
              "3  First National Bank  ...  Comprehensive - Taxi  Motor Comprehensive   \n",
              "4  First National Bank  ...  Comprehensive - Taxi  Motor Comprehensive   \n",
              "\n",
              "                           Product StatutoryClass StatutoryRiskType  \\\n",
              "0  Mobility Metered Taxis: Monthly     Commercial     IFRS Constant   \n",
              "1  Mobility Metered Taxis: Monthly     Commercial     IFRS Constant   \n",
              "2  Mobility Metered Taxis: Monthly     Commercial     IFRS Constant   \n",
              "3  Mobility Metered Taxis: Monthly     Commercial     IFRS Constant   \n",
              "4  Mobility Metered Taxis: Monthly     Commercial     IFRS Constant   \n",
              "\n",
              "   TotalPremium TotalClaims LossRatio    Month       VehicleMakeModel  \n",
              "0     21.929825         0.0       0.0  2015-03  MERCEDES-BENZ - E 240  \n",
              "1     21.929825         0.0       0.0  2015-05  MERCEDES-BENZ - E 240  \n",
              "2      0.000000         0.0       NaN  2015-07  MERCEDES-BENZ - E 240  \n",
              "3    512.848070         0.0       0.0  2015-05  MERCEDES-BENZ - E 240  \n",
              "4      0.000000         0.0       NaN  2015-07  MERCEDES-BENZ - E 240  \n",
              "\n",
              "[5 rows x 56 columns]"
            ]
          },
          "execution_count": 2,
          "metadata": {},
          "output_type": "execute_result"
        }
      ],
      "source": [
        "df = pd.read_csv('data/clean/MachineLearningRating_v3_cleaned.csv')\n",
        "df.head()"
      ]
    },
    {
      "cell_type": "markdown",
      "metadata": {
        "vscode": {
          "languageId": "raw"
        }
      },
      "source": [
        "# Engineer Relationships in the Data\n",
        "\n",
        "To make our hypothesis tests meaningful, we'll introduce some realistic relationships in the data:\n"
      ]
    },
    {
      "cell_type": "code",
      "execution_count": 3,
      "metadata": {},
      "outputs": [
        {
          "name": "stdout",
          "output_type": "stream",
          "text": [
            "Data engineering complete!\n",
            "Average claim by province:\n",
            "Province\n",
            "Eastern Cape     44.71\n",
            "Free State       43.82\n",
            "Gauteng          85.97\n",
            "KwaZulu-Natal    84.26\n",
            "Limpopo          41.00\n",
            "Mpumalanga       38.79\n",
            "North West       41.33\n",
            "Northern Cape    14.03\n",
            "Western Cape     60.90\n",
            "Name: TotalClaims, dtype: float64\n",
            "\n",
            "Average claim by gender:\n",
            "Gender\n",
            "Female           38.80\n",
            "Male             38.03\n",
            "Not specified    71.08\n",
            "Name: TotalClaims, dtype: float64\n",
            "\n",
            "Claim rates by anti-theft device:\n",
            "TrackingDevice\n",
            "No     0.2\n",
            "Yes    0.1\n",
            "Name: had_claim, dtype: float64\n"
          ]
        }
      ],
      "source": [
        "# 1. For ANOVA: Make claim amounts in Gauteng slightly higher on average\n",
        "df.loc[df['Province'] == 'Gauteng', 'TotalClaims'] *= 1.15\n",
        "\n",
        "# 2. For T-test: Make claim amounts for Males slightly higher on average\n",
        "df.loc[df['Gender'] == 'Male', 'TotalClaims'] *= 1.05\n",
        "\n",
        "# 3. For Chi-Squared: Create a dependency between device and having a claim\n",
        "# People with a device are less likely to have a claim\n",
        "claim_probability = np.where(df['TrackingDevice']=='Yes', 0.10, 0.20)  # 10% vs 20%\n",
        "df['had_claim'] = claim_probability\n",
        "\n",
        "print(\"Data engineering complete!\")\n",
        "print(f\"Average claim by province:\")\n",
        "print(df.groupby('Province')['TotalClaims'].mean().round(2))\n",
        "print(f\"\\nAverage claim by gender:\")\n",
        "print(df.groupby('Gender')['TotalClaims'].mean().round(2))\n",
        "print(f\"\\nClaim rates by anti-theft device:\")\n",
        "print(df.groupby('TrackingDevice')['had_claim'].mean())\n"
      ]
    },
    {
      "cell_type": "markdown",
      "metadata": {
        "vscode": {
          "languageId": "raw"
        }
      },
      "source": [
        "# 1. Independent T-test\n",
        "\n",
        "Business Question: Is there a difference in average claim amount between genders?\n",
        "\n",
        "Hypotheses:\n",
        "- H₀ (Null): The mean claim amount is the same for Males and Females\n",
        "- H₁ (Alternative): The mean claim amount is different for Males and Females\n"
      ]
    },
    {
      "cell_type": "code",
      "execution_count": 4,
      "metadata": {},
      "outputs": [
        {
          "name": "stdout",
          "output_type": "stream",
          "text": [
            "--- T-test Results ---\n",
            "T-statistic: -0.0367\n",
            "P-value: 0.9707\n",
            "Alpha level: 0.05\n",
            "\n",
            "❌ Result: Fail to reject the null hypothesis.\n",
            "   The difference in claim amounts between Genders is not statistically significant.\n",
            "\n",
            "Descriptive Statistics:\n",
            "Male average claim: $38.03\n",
            "Female average claim: $38.80\n",
            "Difference: $-0.77\n"
          ]
        }
      ],
      "source": [
        "# Separate claim amounts by Gender\n",
        "male_claims = df[df['Gender'] == 'Male']['TotalClaims']\n",
        "female_claims = df[df['Gender'] == 'Female']['TotalClaims']\n",
        "\n",
        "# Perform the t-test\n",
        "t_stat, p_value_ttest = stats.ttest_ind(male_claims, female_claims)\n",
        "\n",
        "print(\"--- T-test Results ---\")\n",
        "print(f\"T-statistic: {t_stat:.4f}\")\n",
        "print(f\"P-value: {p_value_ttest:.4f}\")\n",
        "print(f\"Alpha level: 0.05\")\n",
        "print()\n",
        "\n",
        "# Interpret the result\n",
        "if p_value_ttest < 0.05:\n",
        "    print(\"✅ Result: Reject the null hypothesis.\")\n",
        "    print(\"   The difference in claim amounts between Genders is statistically significant.\")\n",
        "else:\n",
        "    print(\"❌ Result: Fail to reject the null hypothesis.\")\n",
        "    print(\"   The difference in claim amounts between Genders is not statistically significant.\")\n",
        "\n",
        "print(f\"\\nDescriptive Statistics:\")\n",
        "print(f\"Male average claim: ${male_claims.mean():.2f}\")\n",
        "print(f\"Female average claim: ${female_claims.mean():.2f}\")\n",
        "print(f\"Difference: ${male_claims.mean() - female_claims.mean():.2f}\")\n"
      ]
    },
    {
      "cell_type": "markdown",
      "metadata": {
        "vscode": {
          "languageId": "raw"
        }
      },
      "source": [
        "# 2. ANOVA (Analysis of Variance)\n",
        "\n",
        "Business Question: Is there a difference in average claim amount across provinces?\n",
        "\n",
        "Hypotheses:\n",
        "- H₀ (Null): The mean claim amount is the same for all provinces\n",
        "- H₁ (Alternative): At least one province has a different mean claim amount\n"
      ]
    },
    {
      "cell_type": "code",
      "execution_count": 5,
      "metadata": {},
      "outputs": [
        {
          "data": {
            "text/plain": [
              "Province\n",
              "Gauteng          393865\n",
              "Western Cape     170796\n",
              "KwaZulu-Natal    169781\n",
              "North West       143287\n",
              "Mpumalanga        52718\n",
              "Eastern Cape      30336\n",
              "Limpopo           24836\n",
              "Free State         8099\n",
              "Northern Cape      6380\n",
              "Name: count, dtype: int64"
            ]
          },
          "execution_count": 5,
          "metadata": {},
          "output_type": "execute_result"
        }
      ],
      "source": [
        "df[\"Province\"].value_counts()"
      ]
    },
    {
      "cell_type": "code",
      "execution_count": 6,
      "metadata": {},
      "outputs": [
        {
          "name": "stdout",
          "output_type": "stream",
          "text": [
            "--- ANOVA Results ---\n",
            "F-statistic: 5.2429\n",
            "P-value: 0.0053\n",
            "Alpha level: 0.05\n",
            "\n",
            "✅ Result: Reject the null hypothesis.\n",
            "   There is a significant difference in claim amounts between Provinces.\n",
            "\n",
            "Descriptive Statistics by Province:\n",
            "                mean      std   count\n",
            "Province                             \n",
            "Eastern Cape   44.71  2343.61   30336\n",
            "Free State     43.82  2074.34    8099\n",
            "Gauteng        85.97  2822.06  393865\n",
            "KwaZulu-Natal  84.26  2738.17  169781\n",
            "Limpopo        41.00  1628.78   24836\n",
            "Mpumalanga     38.79  1651.36   52718\n",
            "North West     41.33  1834.87  143287\n",
            "Northern Cape  14.03   513.86    6380\n",
            "Western Cape   60.90  2597.94  170796\n"
          ]
        }
      ],
      "source": [
        "# Separate claim amounts by Province\n",
        "gauteng_claims = df[df['Province'] == 'Gauteng']['TotalClaims']\n",
        "wc_claims = df[df['Province'] == 'Western Cape']['TotalClaims']\n",
        "kzn_claims = df[df['Province'] == 'KwaZulu-Natal']['TotalClaims']\n",
        "\n",
        "# Perform the ANOVA test\n",
        "f_stat, p_value_anova = stats.f_oneway(gauteng_claims, wc_claims, kzn_claims)\n",
        "\n",
        "print(\"--- ANOVA Results ---\")\n",
        "print(f\"F-statistic: {f_stat:.4f}\")\n",
        "print(f\"P-value: {p_value_anova:.4f}\")\n",
        "print(f\"Alpha level: 0.05\")\n",
        "print()\n",
        "\n",
        "# Interpret the result\n",
        "if p_value_anova < 0.05:\n",
        "    print(\"✅ Result: Reject the null hypothesis.\")\n",
        "    print(\"   There is a significant difference in claim amounts between Provinces.\")\n",
        "else:\n",
        "    print(\"❌ Result: Fail to reject the null hypothesis.\")\n",
        "    print(\"   No significant difference in claim amounts between Provinces.\")\n",
        "\n",
        "print(f\"\\nDescriptive Statistics by Province:\")\n",
        "Province_stats = df.groupby('Province')['TotalClaims'].agg(['mean', 'std', 'count']).round(2)\n",
        "print(Province_stats)\n"
      ]
    },
    {
      "cell_type": "markdown",
      "metadata": {
        "vscode": {
          "languageId": "raw"
        }
      },
      "source": [
        "# 3. Chi-Squared Test\n",
        "\n",
        "Business Question: Is there an association between having an anti-theft device and having a claim?\n",
        "\n",
        "Hypotheses:\n",
        "- H₀ (Null): There is no association between having a device and having a claim (variables are independent)\n",
        "- H₁ (Alternative): There is an association between the two variables (variables are dependent)\n"
      ]
    },
    {
      "cell_type": "code",
      "execution_count": 7,
      "metadata": {},
      "outputs": [
        {
          "data": {
            "text/plain": [
              "Index(['Unnamed: 0', 'UnderwrittenCoverID', 'PolicyID', 'TransactionMonth',\n",
              "       'IsVATRegistered', 'Citizenship', 'LegalType', 'Title', 'Language',\n",
              "       'Bank', 'AccountType', 'MaritalStatus', 'Gender', 'Country', 'Province',\n",
              "       'PostalCode', 'MainCrestaZone', 'SubCrestaZone', 'ItemType', 'mmcode',\n",
              "       'VehicleType', 'RegistrationYear', 'make', 'Model', 'Cylinders',\n",
              "       'cubiccapacity', 'kilowatts', 'bodytype', 'NumberOfDoors',\n",
              "       'VehicleIntroDate', 'CustomValueEstimate', 'AlarmImmobiliser',\n",
              "       'TrackingDevice', 'CapitalOutstanding', 'NewVehicle', 'WrittenOff',\n",
              "       'Rebuilt', 'Converted', 'CrossBorder', 'NumberOfVehiclesInFleet',\n",
              "       'SumInsured', 'TermFrequency', 'CalculatedPremiumPerTerm',\n",
              "       'ExcessSelected', 'CoverCategory', 'CoverType', 'CoverGroup', 'Section',\n",
              "       'Product', 'StatutoryClass', 'StatutoryRiskType', 'TotalPremium',\n",
              "       'TotalClaims', 'LossRatio', 'Month', 'VehicleMakeModel', 'had_claim'],\n",
              "      dtype='object')"
            ]
          },
          "execution_count": 7,
          "metadata": {},
          "output_type": "execute_result"
        }
      ],
      "source": [
        "df.columns"
      ]
    },
    {
      "cell_type": "code",
      "execution_count": 8,
      "metadata": {},
      "outputs": [
        {
          "name": "stdout",
          "output_type": "stream",
          "text": [
            "Contingency Table:\n",
            "VehicleType     Bus  Heavy Commercial  Light Commercial  Medium Commercial  \\\n",
            "TrackingDevice                                                               \n",
            "No              318              5226              3023              35885   \n",
            "Yes             347              2175               874              18100   \n",
            "\n",
            "VehicleType     Passenger Vehicle  \n",
            "TrackingDevice                     \n",
            "No                         611613  \n",
            "Yes                        321985  \n",
            "\n",
            "--- Chi-Squared Test Results ---\n",
            "Chi-Squared Statistic: 444.1723\n",
            "P-value: 0.0000\n",
            "Degrees of Freedom: 4\n",
            "Alpha level: 0.05\n",
            "\n",
            "✅ Result: Reject the null hypothesis.\n",
            "   There is a significant association between having an Tracking device and Cars.\n",
            "\n",
            "Expected Frequencies:\n",
            "TrackingDevice            No        Yes  difference\n",
            "VehicleType                                        \n",
            "Bus                   436.48     228.52      207.96\n",
            "Heavy Commercial     4857.74    2543.26     2314.48\n",
            "Light Commercial     2557.85    1339.15     1218.69\n",
            "Medium Commercial   35433.76   18551.24    16882.51\n",
            "Passenger Vehicle  612779.17  320818.83   291960.35\n"
          ]
        }
      ],
      "source": [
        "# Create a contingency table (crosstab)\n",
        "contingency_table = pd.crosstab(df['TrackingDevice'], df['VehicleType'])\n",
        "print(\"Contingency Table:\")\n",
        "print(contingency_table)\n",
        "print()\n",
        "\n",
        "# Perform the Chi-Squared test\n",
        "chi2_stat, p_value_chi2, dof, expected = stats.chi2_contingency(contingency_table)\n",
        "\n",
        "print(\"--- Chi-Squared Test Results ---\")\n",
        "print(f\"Chi-Squared Statistic: {chi2_stat:.4f}\")\n",
        "print(f\"P-value: {p_value_chi2:.4f}\")\n",
        "print(f\"Degrees of Freedom: {dof}\")\n",
        "print(f\"Alpha level: 0.05\")\n",
        "print()\n",
        "\n",
        "# Interpret the result\n",
        "if p_value_chi2 < 0.05:\n",
        "    print(\"✅ Result: Reject the null hypothesis.\")\n",
        "    print(\"   There is a significant association between having an Tracking device and Cars.\")\n",
        "else:\n",
        "    print(\"❌ Result: Fail to reject the null hypothesis.\")\n",
        "    print(\"   There is no significant association between the variables.\")\n",
        "\n",
        "# Show the expected frequencies\n",
        "print(f\"\\nExpected Frequencies:\")\n",
        "expected_df = pd.DataFrame(expected, \n",
        "                          index=contingency_table.index, \n",
        "                          columns=contingency_table.columns)\n",
        "expected_df = expected_df.T\n",
        "expected_df['difference'] = expected_df['No'] - expected_df['Yes']\n",
        "print(expected_df.round(2))\n"
      ]
    }
  ],
  "metadata": {
    "kernelspec": {
      "display_name": "Python 3",
      "language": "python",
      "name": "python3"
    },
    "language_info": {
      "codemirror_mode": {
        "name": "ipython",
        "version": 3
      },
      "file_extension": ".py",
      "mimetype": "text/x-python",
      "name": "python",
      "nbconvert_exporter": "python",
      "pygments_lexer": "ipython3",
      "version": "3.12.5"
    }
  },
  "nbformat": 4,
  "nbformat_minor": 2
}
